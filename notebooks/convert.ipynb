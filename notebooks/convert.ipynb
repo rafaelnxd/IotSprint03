{
 "cells": [
  {
   "cell_type": "code",
   "execution_count": null,
   "metadata": {
    "collapsed": true
   },
   "outputs": [],
   "source": []
  },
  {
   "cell_type": "code",
   "execution_count": 1,
   "metadata": {
    "collapsed": false
   },
   "outputs": [],
   "source": [
    "import shutil\n",
    "from os import path\n",
    "import os\n",
    "import json"
   ]
  },
  {
   "cell_type": "code",
   "execution_count": null,
   "metadata": {
    "collapsed": false
   },
   "outputs": [],
   "source": [
    "\n",
    "SRC_DIR = \"dataset\"\n",
    "DEST_DIR = \"yolo_dataset\""
   ]
  },
  {
   "cell_type": "code",
   "execution_count": null,
   "metadata": {
    "collapsed": false
   },
   "outputs": [],
   "source": [
    "\n",
    "os.makedirs(path.join(DEST_DIR, \"train\", \"images\"), exist_ok=True)\n",
    "os.makedirs(path.join(DEST_DIR, \"train\", \"labels\"), exist_ok=True)\n",
    "os.makedirs(path.join(DEST_DIR, \"val\", \"images\"), exist_ok=True)\n",
    "os.makedirs(path.join(DEST_DIR, \"val\", \"labels\"), exist_ok=True)\n",
    "os.makedirs(path.join(DEST_DIR, \"test\", \"images\"), exist_ok=True)\n",
    "os.makedirs(path.join(DEST_DIR, \"test\", \"labels\"), exist_ok=True)"
   ]
  },
  {
   "cell_type": "code",
   "execution_count": null,
   "metadata": {
    "collapsed": false
   },
   "outputs": [
    {
     "data": {
      "text/plain": [
       "{'Caries': 0, 'Cavity': 1, 'Crack': 2, 'Tooth': 3}"
      ]
     },
     "execution_count": 10,
     "metadata": {},
     "output_type": "execute_result"
    }
   ],
   "source": [
    "\n",
    "meta = json.load(open(path.join(SRC_DIR,\"meta.json\")))\n",
    "classes = {}\n",
    "for (index, entry) in enumerate(meta[\"classes\"]):\n",
    "    classes[entry[\"title\"]] = index\n",
    "classes"
   ]
  },
  {
   "cell_type": "code",
   "execution_count": null,
   "metadata": {
    "collapsed": false
   },
   "outputs": [],
   "source": [
    "\n",
    "with open(path.join(DEST_DIR,\"data.yaml\"),\"w\") as fp:\n",
    "    fp.write(\"train: ../train/images\\n\")\n",
    "    fp.write(\"val: ../val/images\\n\")\n",
    "    fp.write(\"test: ../test/images\\n\")\n",
    "    fp.write(\"\\n\")\n",
    "    fp.write(\"nc: {}\\n\".format(len(classes)))\n",
    "    fp.write(\"names: ['{}']\".format(\"','\".join(classes.keys())))"
   ]
  },
  {
   "cell_type": "code",
   "execution_count": 7,
   "metadata": {
    "collapsed": false
   },
   "outputs": [],
   "source": [
    "dirs_map = {\"train\": \"train\", \"valid\": \"val\", \"test\":\"test\"}"
   ]
  },
  {
   "cell_type": "code",
   "execution_count": null,
   "metadata": {
    "collapsed": false
   },
   "outputs": [],
   "source": [
    "\n",
    "points = []\n",
    "for (src_dir, dest_dir) in dirs_map.items():\n",
    "    shutil.copytree(path.join(SRC_DIR,src_dir,\"img\"),path.join(DEST_DIR,dest_dir,\"images\"),dirs_exist_ok=True)\n",
    "    for file in os.listdir(path.join(SRC_DIR,src_dir,\"ann\")):\n",
    "        ann = json.load(open(path.join(SRC_DIR,src_dir,\"ann\",file),\"r\"))\n",
    "        img_width = ann[\"size\"][\"width\"]\n",
    "        img_height = ann[\"size\"][\"height\"]\n",
    "        file_name = file.replace(\".jpg.json\",\".txt\")\n",
    "        fp = open(path.join(DEST_DIR,dest_dir,\"labels\",file_name),\"w\")\n",
    "        for obj in ann[\"objects\"]:\n",
    "            class_id = classes[obj[\"classTitle\"]]\n",
    "            top = 999999\n",
    "            left = 999999\n",
    "            bottom = 0\n",
    "            right = 0\n",
    "            for point in obj[\"points\"][\"exterior\"]:\n",
    "                if point[0]<left:\n",
    "                    left = point[0]\n",
    "                if point[0]>right:\n",
    "                    right = point[0]\n",
    "                if point[1]<top:\n",
    "                    top = point[1]\n",
    "                if point[1]>bottom:\n",
    "                    bottom = point[1]\n",
    "                width = right - left\n",
    "                height = bottom - top\n",
    "                x_center = (left+width/2)/img_width\n",
    "                y_center =(top+height/2)/img_height\n",
    "                width /= img_width\n",
    "                height /= img_height\n",
    "            fp.write(\"{} {} {} {} {}\\n\".format(class_id,x_center,y_center,width,height))\n",
    "        fp.close()"
   ]
  }
 ],
 "metadata": {
  "kernelspec": {
   "display_name": "Python 3",
   "language": "python",
   "name": "python3"
  },
  "language_info": {
   "codemirror_mode": {
    "name": "ipython",
    "version": 2
   },
   "file_extension": ".py",
   "mimetype": "text/x-python",
   "name": "python",
   "nbconvert_exporter": "python",
   "pygments_lexer": "ipython2",
   "version": "2.7.6"
  }
 },
 "nbformat": 4,
 "nbformat_minor": 0
}
